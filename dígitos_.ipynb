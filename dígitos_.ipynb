{
  "nbformat": 4,
  "nbformat_minor": 0,
  "metadata": {
    "colab": {
      "provenance": [],
      "authorship_tag": "ABX9TyN9TPeWIOb6CU5GeiPSM8i1",
      "include_colab_link": true
    },
    "kernelspec": {
      "name": "python3",
      "display_name": "Python 3"
    },
    "language_info": {
      "name": "python"
    }
  },
  "cells": [
    {
      "cell_type": "markdown",
      "metadata": {
        "id": "view-in-github",
        "colab_type": "text"
      },
      "source": [
        "<a href=\"https://colab.research.google.com/github/hack2050/hack2050/blob/main/d%C3%ADgitos_.ipynb\" target=\"_parent\"><img src=\"https://colab.research.google.com/assets/colab-badge.svg\" alt=\"Open In Colab\"/></a>"
      ]
    },
    {
      "cell_type": "code",
      "source": [
        "import numpy as np\n",
        "!pip install --upgrade tensorflow\n",
        "from IPython.display import clear_output\n",
        "clear_output()\n",
        "from tensorflow.keras import datasets\n",
        "from tensorflow.keras import models\n",
        "from tensorflow.keras import layers\n",
        "from tensorflow.keras.utils import to_categorical\n",
        "from reportlab.lib.pagesizes import letter\n",
        "from reportlab.pdfgen import canvas\n",
        "from datetime import datetime\n",
        "from google.colab import files\n",
        "\n",
        "# Carregar e preparar os dados\n",
        "(x_train, y_train), (x_test, y_test) = mnist.load_data()\n",
        "x_train = x_train / 255.0\n",
        "x_test = x_test / 255.0\n",
        "x_train_flat = x_train.reshape((-1, 28*28))\n",
        "x_test_flat = x_test.reshape((-1, 28*28))\n",
        "y_train_cat = to_categorical(y_train)\n",
        "y_test_cat = to_categorical(y_test)\n",
        "\n",
        "# Construir o modelo\n",
        "model = Sequential([\n",
        "    Flatten(input_shape=(28, 28)),\n",
        "    Dense(128, activation='relu'),\n",
        "    Dense(10, activation='softmax')\n",
        "])\n",
        "\n",
        "model.compile(optimizer='adam', loss='categorical_crossentropy', metrics=['accuracy'])\n",
        "\n",
        "# Treinar o modelo\n",
        "history = model.fit(x_train, y_train_cat, epochs=10, validation_data=(x_test, y_test_cat))\n",
        "\n",
        "# Salvar o modelo treinado\n",
        "model.save(\"mnist_model.h5\")\n",
        "\n",
        "# Carregar o modelo treinado\n",
        "model = load_model(\"mnist_model.h5\")\n",
        "\n",
        "# Fazer previsões nos dados de teste\n",
        "predictions = model.predict(x_test)\n",
        "\n",
        "# Exibir algumas previsões\n",
        "for i in range(10):  # Exibir as 10 primeiras previsões\n",
        "    prediction = np.argmax(predictions[i])\n",
        "    print(f\"Rótulo verdadeiro: {y_test[i]}, Previsão: {prediction}\")\n",
        "\n",
        "# Exibir e salvar os dígitos desenhados em um arquivo PDF\n",
        "pdf_filename = \"digit_drawings.pdf\"\n",
        "c = canvas.Canvas(pdf_filename, pagesize=letter)\n",
        "c.drawString(100, 800, \"Detalhes do Treinamento do Modelo:\")\n",
        "c.drawString(100, 780, \"-----------------------------------\")\n",
        "c.drawString(100, 760, f\"Épocas de Treinamento: {len(history.history['accuracy'])}\")\n",
        "c.drawString(100, 740, f\"Última Precisão de Treinamento: {history.history['accuracy'][-1]}\")\n",
        "c.drawString(100, 720, f\"Última Precisão de Validação: {history.history['val_accuracy'][-1]}\")\n",
        "c.drawString(100, 700, f\"Última Perda de Treinamento: {history.history['loss'][-1]}\")\n",
        "c.drawString(100, 680, f\"Última Perda de Validação: {history.history['val_loss'][-1]}\")\n",
        "\n",
        "# Adicionar a data e hora no PDF\n",
        "now = datetime.now()\n",
        "date_time = now.strftime(\"%d/%m/%Y, %H:%M:%S\")\n",
        "c.drawString(100, 50, f\"PDF gerado em: {date_time}\")\n",
        "\n",
        "# Salvar o arquivo PDF\n",
        "c.save()\n",
        "\n",
        "# Baixar o arquivo PDF\n",
        "files.download(pdf_filename)\n"
      ],
      "metadata": {
        "colab": {
          "base_uri": "https://localhost:8080/",
          "height": 555
        },
        "id": "jseupoH8bLtZ",
        "outputId": "7ddbd2ad-07b5-455d-c791-0da485042849"
      },
      "execution_count": 4,
      "outputs": [
        {
          "output_type": "stream",
          "name": "stdout",
          "text": [
            "Epoch 1/10\n",
            "1875/1875 [==============================] - 8s 4ms/step - loss: 0.2633 - accuracy: 0.9245 - val_loss: 0.1465 - val_accuracy: 0.9548\n",
            "Epoch 2/10\n",
            "1875/1875 [==============================] - 7s 4ms/step - loss: 0.1152 - accuracy: 0.9662 - val_loss: 0.0953 - val_accuracy: 0.9718\n",
            "Epoch 3/10\n",
            "1875/1875 [==============================] - 9s 5ms/step - loss: 0.0779 - accuracy: 0.9768 - val_loss: 0.0901 - val_accuracy: 0.9727\n",
            "Epoch 4/10\n",
            "1875/1875 [==============================] - 7s 3ms/step - loss: 0.0589 - accuracy: 0.9814 - val_loss: 0.0777 - val_accuracy: 0.9768\n",
            "Epoch 5/10\n",
            "1875/1875 [==============================] - 8s 4ms/step - loss: 0.0453 - accuracy: 0.9859 - val_loss: 0.0731 - val_accuracy: 0.9789\n",
            "Epoch 6/10\n",
            "1875/1875 [==============================] - 7s 4ms/step - loss: 0.0353 - accuracy: 0.9887 - val_loss: 0.0705 - val_accuracy: 0.9774\n",
            "Epoch 7/10\n",
            "1875/1875 [==============================] - 10s 5ms/step - loss: 0.0284 - accuracy: 0.9911 - val_loss: 0.0753 - val_accuracy: 0.9780\n",
            "Epoch 8/10\n",
            "1875/1875 [==============================] - 8s 4ms/step - loss: 0.0232 - accuracy: 0.9930 - val_loss: 0.0741 - val_accuracy: 0.9785\n",
            "Epoch 9/10\n",
            "1875/1875 [==============================] - 8s 4ms/step - loss: 0.0185 - accuracy: 0.9944 - val_loss: 0.0764 - val_accuracy: 0.9777\n",
            "Epoch 10/10\n",
            "1875/1875 [==============================] - 9s 5ms/step - loss: 0.0158 - accuracy: 0.9951 - val_loss: 0.0830 - val_accuracy: 0.9772\n",
            "313/313 [==============================] - 1s 2ms/step\n",
            "Rótulo verdadeiro: 7, Previsão: 7\n",
            "Rótulo verdadeiro: 2, Previsão: 2\n",
            "Rótulo verdadeiro: 1, Previsão: 1\n",
            "Rótulo verdadeiro: 0, Previsão: 0\n",
            "Rótulo verdadeiro: 4, Previsão: 4\n",
            "Rótulo verdadeiro: 1, Previsão: 1\n",
            "Rótulo verdadeiro: 4, Previsão: 4\n",
            "Rótulo verdadeiro: 9, Previsão: 9\n",
            "Rótulo verdadeiro: 5, Previsão: 5\n",
            "Rótulo verdadeiro: 9, Previsão: 9\n"
          ]
        },
        {
          "output_type": "display_data",
          "data": {
            "text/plain": [
              "<IPython.core.display.Javascript object>"
            ],
            "application/javascript": [
              "\n",
              "    async function download(id, filename, size) {\n",
              "      if (!google.colab.kernel.accessAllowed) {\n",
              "        return;\n",
              "      }\n",
              "      const div = document.createElement('div');\n",
              "      const label = document.createElement('label');\n",
              "      label.textContent = `Downloading \"${filename}\": `;\n",
              "      div.appendChild(label);\n",
              "      const progress = document.createElement('progress');\n",
              "      progress.max = size;\n",
              "      div.appendChild(progress);\n",
              "      document.body.appendChild(div);\n",
              "\n",
              "      const buffers = [];\n",
              "      let downloaded = 0;\n",
              "\n",
              "      const channel = await google.colab.kernel.comms.open(id);\n",
              "      // Send a message to notify the kernel that we're ready.\n",
              "      channel.send({})\n",
              "\n",
              "      for await (const message of channel.messages) {\n",
              "        // Send a message to notify the kernel that we're ready.\n",
              "        channel.send({})\n",
              "        if (message.buffers) {\n",
              "          for (const buffer of message.buffers) {\n",
              "            buffers.push(buffer);\n",
              "            downloaded += buffer.byteLength;\n",
              "            progress.value = downloaded;\n",
              "          }\n",
              "        }\n",
              "      }\n",
              "      const blob = new Blob(buffers, {type: 'application/binary'});\n",
              "      const a = document.createElement('a');\n",
              "      a.href = window.URL.createObjectURL(blob);\n",
              "      a.download = filename;\n",
              "      div.appendChild(a);\n",
              "      a.click();\n",
              "      div.remove();\n",
              "    }\n",
              "  "
            ]
          },
          "metadata": {}
        },
        {
          "output_type": "display_data",
          "data": {
            "text/plain": [
              "<IPython.core.display.Javascript object>"
            ],
            "application/javascript": [
              "download(\"download_6f93e553-7cdb-4ff8-80eb-1dc430a93a93\", \"digit_drawings.pdf\", 1633)"
            ]
          },
          "metadata": {}
        }
      ]
    }
  ]
}